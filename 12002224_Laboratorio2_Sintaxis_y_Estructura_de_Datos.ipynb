{
 "cells": [
  {
   "cell_type": "markdown",
   "id": "7d92bc99-c981-4af4-bfde-606ef336477a",
   "metadata": {},
   "source": [
    "# "
   ]
  },
  {
   "cell_type": "markdown",
   "id": "d67d8d7d-dfa6-44e0-a485-874170bd5d5c",
   "metadata": {},
   "source": [
    "# Laboratorio #2 - Sintaxis y Estructura de Datos"
   ]
  },
  {
   "cell_type": "markdown",
   "id": "31291157-4f2b-48bd-b566-6559deb4eb1e",
   "metadata": {},
   "source": [
    "## 1. Haga un programa en Python que reciba de parámetros un número de segundos y que despliegue en pantalla, las horas, minutos y segundos que representan.  "
   ]
  },
  {
   "cell_type": "code",
   "execution_count": 21,
   "id": "de558d16-6797-476d-afbc-5bc5e35245ee",
   "metadata": {},
   "outputs": [
    {
     "name": "stdin",
     "output_type": "stream",
     "text": [
      "Ingrese los segundos:  223000\n"
     ]
    },
    {
     "name": "stdout",
     "output_type": "stream",
     "text": [
      "Hora(s):61 Minuto(s):56 Segundo(s):40\n"
     ]
    }
   ],
   "source": [
    "def conversion_seg(num_segundos):\n",
    "    try:\n",
    "        horas = num_segundos // 3600 # realizo una división entera para obetner las horas\n",
    "        resto_horas = num_segundos % 3600 # Se efectua una operación de modulo para obtner el resto de la división\n",
    "        minutos = resto_horas // 60 # realizo un división entera al resto para obtener los minutos\n",
    "        segundos = resto_horas % 60 # Operación modulo para obtener los segundos\n",
    "        return f'Hora(s):{horas} Minuto(s):{minutos} Segundo(s):{segundos}' #Retornamos un str con los valores \n",
    "    except Exception as error:\n",
    "        print('Error ->', error)\n",
    "        \n",
    "num_segundos = int(input('Ingrese los segundos: ')) # Pedimos al usuario los segundos\n",
    "resultado = conversion_seg(num_segundos) # mandamos el parametro a la función\n",
    "print(resultado) # imprimimos el retorno de la función"
   ]
  },
  {
   "cell_type": "code",
   "execution_count": 22,
   "id": "cce0e1bf-29fc-4528-8cea-5dae0af4be6a",
   "metadata": {},
   "outputs": [
    {
     "name": "stdout",
     "output_type": "stream",
     "text": [
      "Initialized empty Git repository in C:/Users/risca/Desktop/Maestria Ciencia de Datos/Ciencia de datos en Python/Ciencia_de_Datos_Python/U/Laboratorio2/.git/\n"
     ]
    }
   ],
   "source": [
    "!git init"
   ]
  },
  {
   "cell_type": "code",
   "execution_count": 52,
   "id": "285ff12d-7edd-48af-8698-194d626233b1",
   "metadata": {},
   "outputs": [
    {
     "name": "stderr",
     "output_type": "stream",
     "text": [
      "warning: LF will be replaced by CRLF in 12002224_Laboratorio2_Sintaxis_y_Estructura_de_Datos.ipynb.\n",
      "The file will have its original line endings in your working directory\n"
     ]
    }
   ],
   "source": [
    "!git add 12002224_Laboratorio2_Sintaxis_y_Estructura_de_Datos.ipynb"
   ]
  },
  {
   "cell_type": "code",
   "execution_count": 53,
   "id": "e090c3a3-aad4-4315-abae-b4e087cfa598",
   "metadata": {},
   "outputs": [
    {
     "name": "stdout",
     "output_type": "stream",
     "text": [
      "[master 914625b] Primer programa del laboratorio 2\n",
      " 1 file changed, 36 insertions(+), 17 deletions(-)\n"
     ]
    }
   ],
   "source": [
    "!git commit -m \"Primer programa del laboratorio 2\""
   ]
  },
  {
   "cell_type": "code",
   "execution_count": 54,
   "id": "7ba3c73a-988c-402d-86aa-0429f5a6da13",
   "metadata": {},
   "outputs": [],
   "source": [
    "!git branch -M main"
   ]
  },
  {
   "cell_type": "code",
   "execution_count": null,
   "id": "8359aec3-6211-4edd-88b9-667a99c1452c",
   "metadata": {},
   "outputs": [],
   "source": [
    "!git push -u origin main"
   ]
  },
  {
   "cell_type": "markdown",
   "id": "547ff145-0d5c-44e9-9903-9d3a502003c9",
   "metadata": {},
   "source": [
    "## 2. Haga una función en Python que dado un número entre 1 y 20. Y un carácter cualquiera despliegue cuatro patrones trianguales."
   ]
  },
  {
   "cell_type": "code",
   "execution_count": 121,
   "id": "21bf8889-723b-4981-950a-82966d40c191",
   "metadata": {},
   "outputs": [
    {
     "name": "stdin",
     "output_type": "stream",
     "text": [
      "Ingrese un número entre 1 y 20 para desplegar cuatro patrones triangulares:  5\n"
     ]
    },
    {
     "name": "stdout",
     "output_type": "stream",
     "text": [
      "*\n",
      "**\n",
      "***\n",
      "****\n",
      "*****\n",
      "\n",
      "*****\n",
      "****\n",
      "***\n",
      "**\n",
      "*\n",
      "\n",
      "    *\n",
      "   **\n",
      "  ***\n",
      " ****\n",
      "*****\n",
      "\n",
      "*****\n",
      " ****\n",
      "  ***\n",
      "   **\n",
      "    *\n"
     ]
    }
   ],
   "source": [
    "def patrones_triangulares(num):\n",
    "    for i in range(num):\n",
    "        print('*' * (i+1))\n",
    "        \n",
    "    print()\n",
    "    \n",
    "    for i in range(num):\n",
    "        j = num - (i)\n",
    "        print('*' * j)\n",
    "    \n",
    "    print()\n",
    "    \n",
    "    for i in range(num):\n",
    "        vacios = num - (i + 1)\n",
    "        print(' '* vacios + '*' * (i + 1))\n",
    "\n",
    "    print()\n",
    "    \n",
    "    for i in range(num):\n",
    "        espacios = i\n",
    "        j = num - i\n",
    "        print(' '* espacios + '*' * j)\n",
    "        \n",
    "    \n",
    "numero = int(input('Ingrese un número entre 1 y 20 para desplegar cuatro patrones triangulares: '))\n",
    "patrones_triangulares(numero)\n"
   ]
  },
  {
   "cell_type": "code",
   "execution_count": null,
   "id": "f79d76cb-8866-4465-9bb1-8a19f553ca25",
   "metadata": {},
   "outputs": [],
   "source": []
  },
  {
   "cell_type": "code",
   "execution_count": null,
   "id": "66c3db0d-9dd7-4d5a-9db6-4b9cf3042132",
   "metadata": {},
   "outputs": [],
   "source": []
  }
 ],
 "metadata": {
  "kernelspec": {
   "display_name": "Python 3 (ipykernel)",
   "language": "python",
   "name": "python3"
  },
  "language_info": {
   "codemirror_mode": {
    "name": "ipython",
    "version": 3
   },
   "file_extension": ".py",
   "mimetype": "text/x-python",
   "name": "python",
   "nbconvert_exporter": "python",
   "pygments_lexer": "ipython3",
   "version": "3.11.7"
  }
 },
 "nbformat": 4,
 "nbformat_minor": 5
}
