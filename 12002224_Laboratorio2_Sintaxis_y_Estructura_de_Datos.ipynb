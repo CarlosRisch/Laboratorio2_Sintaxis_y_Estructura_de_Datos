{
 "cells": [
  {
   "cell_type": "markdown",
   "id": "7d92bc99-c981-4af4-bfde-606ef336477a",
   "metadata": {},
   "source": [
    "# "
   ]
  },
  {
   "cell_type": "markdown",
   "id": "d67d8d7d-dfa6-44e0-a485-874170bd5d5c",
   "metadata": {},
   "source": [
    "# Laboratorio #2 - Sintaxis y Estructura de Datos"
   ]
  },
  {
   "cell_type": "markdown",
   "id": "31291157-4f2b-48bd-b566-6559deb4eb1e",
   "metadata": {},
   "source": [
    "## 1. Haga un programa en Python que reciba de parámetros un número de segundos y que despliegue en pantalla, las horas, minutos y segundos que representan.  "
   ]
  },
  {
   "cell_type": "code",
   "execution_count": 21,
   "id": "de558d16-6797-476d-afbc-5bc5e35245ee",
   "metadata": {},
   "outputs": [
    {
     "name": "stdin",
     "output_type": "stream",
     "text": [
      "Ingrese los segundos:  223000\n"
     ]
    },
    {
     "name": "stdout",
     "output_type": "stream",
     "text": [
      "Hora(s):61 Minuto(s):56 Segundo(s):40\n"
     ]
    }
   ],
   "source": [
    "def conversion_seg(num_segundos):\n",
    "    try:\n",
    "        horas = num_segundos // 3600 # realizo una división entera para obetner las horas\n",
    "        resto_horas = num_segundos % 3600 # Se efectua una operación de modulo para obtner el resto de la división\n",
    "        minutos = resto_horas // 60 # realizo un división entera al resto para obtener los minutos\n",
    "        segundos = resto_horas % 60 # Operación modulo para obtener los segundos\n",
    "        return f'Hora(s):{horas} Minuto(s):{minutos} Segundo(s):{segundos}' #Retornamos un str con los valores \n",
    "    except Exception as error:\n",
    "        print('Error ->', error)\n",
    "        \n",
    "num_segundos = int(input('Ingrese los segundos: ')) # Pedimos al usuario los segundos\n",
    "resultado = conversion_seg(num_segundos) # mandamos el parametro a la función\n",
    "print(resultado) # imprimimos el retorno de la función"
   ]
  },
  {
   "cell_type": "code",
   "execution_count": 22,
   "id": "cce0e1bf-29fc-4528-8cea-5dae0af4be6a",
   "metadata": {},
   "outputs": [
    {
     "name": "stdout",
     "output_type": "stream",
     "text": [
      "Initialized empty Git repository in C:/Users/risca/Desktop/Maestria Ciencia de Datos/Ciencia de datos en Python/Ciencia_de_Datos_Python/U/Laboratorio2/.git/\n"
     ]
    }
   ],
   "source": [
    "!git init"
   ]
  },
  {
   "cell_type": "code",
   "execution_count": 52,
   "id": "285ff12d-7edd-48af-8698-194d626233b1",
   "metadata": {},
   "outputs": [
    {
     "name": "stderr",
     "output_type": "stream",
     "text": [
      "warning: LF will be replaced by CRLF in 12002224_Laboratorio2_Sintaxis_y_Estructura_de_Datos.ipynb.\n",
      "The file will have its original line endings in your working directory\n"
     ]
    }
   ],
   "source": [
    "!git add 12002224_Laboratorio2_Sintaxis_y_Estructura_de_Datos.ipynb"
   ]
  },
  {
   "cell_type": "code",
   "execution_count": 53,
   "id": "e090c3a3-aad4-4315-abae-b4e087cfa598",
   "metadata": {},
   "outputs": [
    {
     "name": "stdout",
     "output_type": "stream",
     "text": [
      "[master 914625b] Primer programa del laboratorio 2\n",
      " 1 file changed, 36 insertions(+), 17 deletions(-)\n"
     ]
    }
   ],
   "source": [
    "!git commit -m \"Primer programa del laboratorio 2\""
   ]
  },
  {
   "cell_type": "code",
   "execution_count": 54,
   "id": "7ba3c73a-988c-402d-86aa-0429f5a6da13",
   "metadata": {},
   "outputs": [],
   "source": [
    "!git branch -M main"
   ]
  },
  {
   "cell_type": "code",
   "execution_count": null,
   "id": "8359aec3-6211-4edd-88b9-667a99c1452c",
   "metadata": {},
   "outputs": [],
   "source": [
    "!git push -u origin main"
   ]
  },
  {
   "cell_type": "markdown",
   "id": "547ff145-0d5c-44e9-9903-9d3a502003c9",
   "metadata": {},
   "source": [
    "## 2. Haga una función en Python que dado un número entre 1 y 20. Y un carácter cualquiera despliegue cuatro patrones triangualares."
   ]
  },
  {
   "cell_type": "code",
   "execution_count": 121,
   "id": "21bf8889-723b-4981-950a-82966d40c191",
   "metadata": {},
   "outputs": [
    {
     "name": "stdin",
     "output_type": "stream",
     "text": [
      "Ingrese un número entre 1 y 20 para desplegar cuatro patrones triangulares:  5\n"
     ]
    },
    {
     "name": "stdout",
     "output_type": "stream",
     "text": [
      "*\n",
      "**\n",
      "***\n",
      "****\n",
      "*****\n",
      "\n",
      "*****\n",
      "****\n",
      "***\n",
      "**\n",
      "*\n",
      "\n",
      "    *\n",
      "   **\n",
      "  ***\n",
      " ****\n",
      "*****\n",
      "\n",
      "*****\n",
      " ****\n",
      "  ***\n",
      "   **\n",
      "    *\n"
     ]
    }
   ],
   "source": [
    "def patrones_triangulares(num):\n",
    "    for i in range(num):\n",
    "        print('*' * (i+1))\n",
    "        \n",
    "    print()\n",
    "    \n",
    "    for i in range(num):\n",
    "        j = num - (i)\n",
    "        print('*' * j)\n",
    "    \n",
    "    print()\n",
    "    \n",
    "    for i in range(num):\n",
    "        vacios = num - (i + 1)\n",
    "        print(' '* vacios + '*' * (i + 1))\n",
    "\n",
    "    print()\n",
    "    \n",
    "    for i in range(num):\n",
    "        espacios = i\n",
    "        j = num - i\n",
    "        print(' '* espacios + '*' * j)\n",
    "        \n",
    "    \n",
    "numero = int(input('Ingrese un número entre 1 y 20 para desplegar cuatro patrones triangulares: '))\n",
    "patrones_triangulares(numero)\n"
   ]
  },
  {
   "cell_type": "code",
   "execution_count": 122,
   "id": "f79d76cb-8866-4465-9bb1-8a19f553ca25",
   "metadata": {},
   "outputs": [
    {
     "name": "stdout",
     "output_type": "stream",
     "text": [
      "On branch main\n",
      "Your branch is up to date with 'origin/main'.\n",
      "\n",
      "Changes not staged for commit:\n",
      "  (use \"git add <file>...\" to update what will be committed)\n",
      "  (use \"git restore <file>...\" to discard changes in working directory)\n",
      "\tmodified:   12002224_Laboratorio2_Sintaxis_y_Estructura_de_Datos.ipynb\n",
      "\n",
      "Untracked files:\n",
      "  (use \"git add <file>...\" to include in what will be committed)\n",
      "\t.ipynb_checkpoints/\n",
      "\n",
      "no changes added to commit (use \"git add\" and/or \"git commit -a\")\n"
     ]
    }
   ],
   "source": [
    "!git status"
   ]
  },
  {
   "cell_type": "code",
   "execution_count": 123,
   "id": "66c3db0d-9dd7-4d5a-9db6-4b9cf3042132",
   "metadata": {},
   "outputs": [
    {
     "name": "stderr",
     "output_type": "stream",
     "text": [
      "warning: LF will be replaced by CRLF in 12002224_Laboratorio2_Sintaxis_y_Estructura_de_Datos.ipynb.\n",
      "The file will have its original line endings in your working directory\n"
     ]
    }
   ],
   "source": [
    "!git add 12002224_Laboratorio2_Sintaxis_y_Estructura_de_Datos.ipynb"
   ]
  },
  {
   "cell_type": "code",
   "execution_count": 124,
   "id": "fea5648b-e4e7-45cd-8ea2-5561d13f1afa",
   "metadata": {},
   "outputs": [
    {
     "name": "stdout",
     "output_type": "stream",
     "text": [
      "On branch main\n",
      "Your branch is up to date with 'origin/main'.\n",
      "\n",
      "Changes to be committed:\n",
      "  (use \"git restore --staged <file>...\" to unstage)\n",
      "\tmodified:   12002224_Laboratorio2_Sintaxis_y_Estructura_de_Datos.ipynb\n",
      "\n",
      "Changes not staged for commit:\n",
      "  (use \"git add <file>...\" to update what will be committed)\n",
      "  (use \"git restore <file>...\" to discard changes in working directory)\n",
      "\tmodified:   12002224_Laboratorio2_Sintaxis_y_Estructura_de_Datos.ipynb\n",
      "\n",
      "Untracked files:\n",
      "  (use \"git add <file>...\" to include in what will be committed)\n",
      "\t.ipynb_checkpoints/\n",
      "\n"
     ]
    }
   ],
   "source": [
    "!git status"
   ]
  },
  {
   "cell_type": "code",
   "execution_count": 125,
   "id": "ac755c32-a915-45db-b10a-9ec297d2ca88",
   "metadata": {},
   "outputs": [
    {
     "name": "stdout",
     "output_type": "stream",
     "text": [
      "[main a96c8cf] Segundo Ejercicio del laboratorio 2\n",
      " 1 file changed, 258 insertions(+), 812 deletions(-)\n",
      " rewrite 12002224_Laboratorio2_Sintaxis_y_Estructura_de_Datos.ipynb (79%)\n"
     ]
    }
   ],
   "source": [
    "!git commit -m \"Segundo Ejercicio del laboratorio 2\""
   ]
  },
  {
   "cell_type": "code",
   "execution_count": 126,
   "id": "47d98eec-e3db-4664-833e-f98445a216cf",
   "metadata": {},
   "outputs": [
    {
     "name": "stdout",
     "output_type": "stream",
     "text": [
      "Branch 'main' set up to track remote branch 'main' from 'origin'.\n"
     ]
    },
    {
     "name": "stderr",
     "output_type": "stream",
     "text": [
      "To https://github.com/CarlosRisch/Laboratorio2_Sintaxis_y_Estructura_de_Datos.git\n",
      "   cfc8c87..a96c8cf  main -> main\n"
     ]
    }
   ],
   "source": [
    "!git push -u origin main"
   ]
  },
  {
   "cell_type": "markdown",
   "id": "ee58b3f2-6c5a-4116-83e7-4743ea0a9317",
   "metadata": {},
   "source": [
    "## 3. Haga un programa en Python que la fecha de nacimiento de una persona (puede ingresar por separado cada valor, es decir pedir primero día, luego mes y luego año), despliegue la edad de la persona en años, meses y días. Su resultado puede ser aproximado."
   ]
  },
  {
   "cell_type": "code",
   "execution_count": 132,
   "id": "244beb4b-6cbd-40bf-b0cd-fb3bd5fb5ba5",
   "metadata": {},
   "outputs": [
    {
     "name": "stdin",
     "output_type": "stream",
     "text": [
      "Ingrese el día de nacimiento:  27\n",
      "Ingrese el mes de nacimiento:  05\n",
      "Ingrese el año de nacimiento:  1992\n"
     ]
    },
    {
     "name": "stdout",
     "output_type": "stream",
     "text": [
      "La edad es: 31 años, 9 meses y 10 días\n"
     ]
    }
   ],
   "source": [
    "from datetime import datetime\n",
    "\n",
    "def calcular_edad(dia, mes, anio):\n",
    "    try:\n",
    "        fecha_nac = datetime(anio, mes, dia)\n",
    "        fecha_act = datetime.now()\n",
    "        # Operaciones para el calculo de los años, meses y dias\n",
    "        diferencia_fechas = fecha_act - fecha_nac\n",
    "        edad_anio = diferencia_fechas.days // 365\n",
    "        resto_dias = diferencia_fechas.days % 365\n",
    "        edad_mes = resto_dias // 30\n",
    "        edad_dias = resto_dias % 30\n",
    "    \n",
    "        return edad_anio, edad_mes, edad_dias\n",
    "    except Exception as error:\n",
    "        print('Error -> ', error)\n",
    "        \n",
    "# solicitamos el dia, mes y año al usuario\n",
    "dia = int(input('Ingrese el día de nacimiento: '))\n",
    "mes = int(input('Ingrese el mes de nacimiento: '))\n",
    "anio = int(input('Ingrese el año de nacimiento: '))\n",
    "\n",
    "edad_anio1, edad_meses1, edad_dias1 = calcular_edad(dia, mes, anio) # Mandamos las variables como parámetros de la función y el resultado lo guardamos en otras variables\n",
    "print(f'La edad es: {edad_anio1} años, {edad_meses1} meses y {edad_dias1} días')"
   ]
  },
  {
   "cell_type": "code",
   "execution_count": 133,
   "id": "c8557532-ef01-4000-973b-33f93a5b9531",
   "metadata": {},
   "outputs": [
    {
     "name": "stdout",
     "output_type": "stream",
     "text": [
      "On branch main\n",
      "Your branch is up to date with 'origin/main'.\n",
      "\n",
      "Changes not staged for commit:\n",
      "  (use \"git add <file>...\" to update what will be committed)\n",
      "  (use \"git restore <file>...\" to discard changes in working directory)\n",
      "\tmodified:   12002224_Laboratorio2_Sintaxis_y_Estructura_de_Datos.ipynb\n",
      "\n",
      "Untracked files:\n",
      "  (use \"git add <file>...\" to include in what will be committed)\n",
      "\t.ipynb_checkpoints/\n",
      "\n",
      "no changes added to commit (use \"git add\" and/or \"git commit -a\")\n"
     ]
    }
   ],
   "source": [
    "!git status"
   ]
  },
  {
   "cell_type": "code",
   "execution_count": 134,
   "id": "094c0c88-c071-484a-968c-d265cc0e9cb4",
   "metadata": {},
   "outputs": [
    {
     "name": "stderr",
     "output_type": "stream",
     "text": [
      "warning: LF will be replaced by CRLF in 12002224_Laboratorio2_Sintaxis_y_Estructura_de_Datos.ipynb.\n",
      "The file will have its original line endings in your working directory\n"
     ]
    }
   ],
   "source": [
    "!git add 12002224_Laboratorio2_Sintaxis_y_Estructura_de_Datos.ipynb"
   ]
  },
  {
   "cell_type": "code",
   "execution_count": 135,
   "id": "0b62a65d-c77b-4a80-947f-ff6465ac11b3",
   "metadata": {},
   "outputs": [
    {
     "name": "stdout",
     "output_type": "stream",
     "text": [
      "On branch main\n",
      "Your branch is up to date with 'origin/main'.\n",
      "\n",
      "Changes to be committed:\n",
      "  (use \"git restore --staged <file>...\" to unstage)\n",
      "\tmodified:   12002224_Laboratorio2_Sintaxis_y_Estructura_de_Datos.ipynb\n",
      "\n",
      "Untracked files:\n",
      "  (use \"git add <file>...\" to include in what will be committed)\n",
      "\t.ipynb_checkpoints/\n",
      "\n"
     ]
    }
   ],
   "source": [
    "!git status"
   ]
  },
  {
   "cell_type": "code",
   "execution_count": 136,
   "id": "d814b403-e591-4d02-80b4-d4507511983e",
   "metadata": {},
   "outputs": [
    {
     "name": "stdout",
     "output_type": "stream",
     "text": [
      "[main 0b8f2a9] Tercer Ejercicio del laboratorio 2\n",
      " 1 file changed, 183 insertions(+), 5 deletions(-)\n"
     ]
    }
   ],
   "source": [
    "!git commit -m \"Tercer Ejercicio del laboratorio 2\""
   ]
  },
  {
   "cell_type": "code",
   "execution_count": 137,
   "id": "a8af4682-35a5-4009-bc53-e3b95488f78c",
   "metadata": {},
   "outputs": [
    {
     "name": "stdout",
     "output_type": "stream",
     "text": [
      "Branch 'main' set up to track remote branch 'main' from 'origin'.\n"
     ]
    },
    {
     "name": "stderr",
     "output_type": "stream",
     "text": [
      "To https://github.com/CarlosRisch/Laboratorio2_Sintaxis_y_Estructura_de_Datos.git\n",
      "   a96c8cf..0b8f2a9  main -> main\n"
     ]
    }
   ],
   "source": [
    "!git push -u origin main"
   ]
  },
  {
   "cell_type": "markdown",
   "id": "14fdd089-c857-45a9-a37b-95b4c401e72a",
   "metadata": {},
   "source": [
    "## 4. Escriba una función en Python que dada una tupla de elementos (números o letras) esta se convierta a un string."
   ]
  },
  {
   "cell_type": "code",
   "execution_count": 149,
   "id": "efe61b25-c1cf-435f-ab71-ae3a4cb89f55",
   "metadata": {},
   "outputs": [
    {
     "name": "stdout",
     "output_type": "stream",
     "text": [
      "El resultado de la conversion es: 102040570\n"
     ]
    }
   ],
   "source": [
    "def convertir_tupla_a_str(una_tupla):\n",
    "    #conversion = ''.join(map(str, una_tupla)\n",
    "    cadena = ''\n",
    "    for dato in una_tupla:\n",
    "        cadena = cadena + str(dato)\n",
    "    return cadena\n",
    "\n",
    "datos_tupla = (10, 20, 40, 5, 70)\n",
    "datos_convertidos = convertir_tupla_a_str(datos_tupla)\n",
    "\n",
    "print(f'El resultado de la conversion es: {datos_convertidos}')"
   ]
  },
  {
   "cell_type": "code",
   "execution_count": null,
   "id": "fecb6162-d637-42fa-a72c-9769a8a48dd8",
   "metadata": {},
   "outputs": [],
   "source": []
  }
 ],
 "metadata": {
  "kernelspec": {
   "display_name": "Python 3 (ipykernel)",
   "language": "python",
   "name": "python3"
  },
  "language_info": {
   "codemirror_mode": {
    "name": "ipython",
    "version": 3
   },
   "file_extension": ".py",
   "mimetype": "text/x-python",
   "name": "python",
   "nbconvert_exporter": "python",
   "pygments_lexer": "ipython3",
   "version": "3.11.7"
  }
 },
 "nbformat": 4,
 "nbformat_minor": 5
}
