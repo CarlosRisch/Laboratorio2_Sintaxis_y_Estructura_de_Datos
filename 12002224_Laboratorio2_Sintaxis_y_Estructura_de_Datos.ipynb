{
 "cells": [
  {
   "cell_type": "markdown",
   "id": "7d92bc99-c981-4af4-bfde-606ef336477a",
   "metadata": {},
   "source": [
    "# "
   ]
  },
  {
   "cell_type": "markdown",
   "id": "d67d8d7d-dfa6-44e0-a485-874170bd5d5c",
   "metadata": {},
   "source": [
    "# Laboratorio #2 - Sintaxis y Estructura de Datos"
   ]
  },
  {
   "cell_type": "markdown",
   "id": "31291157-4f2b-48bd-b566-6559deb4eb1e",
   "metadata": {},
   "source": [
    "## 1. Haga un programa en Python que reciba de parámetros un número de segundos y que despliegue en pantalla, las horas, minutos y segundos que representan.  "
   ]
  },
  {
   "cell_type": "code",
   "execution_count": 21,
   "id": "de558d16-6797-476d-afbc-5bc5e35245ee",
   "metadata": {},
   "outputs": [
    {
     "name": "stdin",
     "output_type": "stream",
     "text": [
      "Ingrese los segundos:  223000\n"
     ]
    },
    {
     "name": "stdout",
     "output_type": "stream",
     "text": [
      "Hora(s):61 Minuto(s):56 Segundo(s):40\n"
     ]
    }
   ],
   "source": [
    "def conversion_seg(num_segundos):\n",
    "    try:\n",
    "        horas = num_segundos // 3600 # realizo una división entera para obetner las horas\n",
    "        resto_horas = num_segundos % 3600 # Se efectua una operación de modulo para obtner el resto de la división\n",
    "        minutos = resto_horas // 60 # realizo un división entera al resto para obtener los minutos\n",
    "        segundos = resto_horas % 60 # Operación modulo para obtener los segundos\n",
    "        return f'Hora(s):{horas} Minuto(s):{minutos} Segundo(s):{segundos}' #Retornamos un str con los valores \n",
    "    except Exception as error:\n",
    "        print('Error ->', error)\n",
    "        \n",
    "num_segundos = int(input('Ingrese los segundos: ')) # Pedimos al usuario los segundos\n",
    "resultado = conversion_seg(num_segundos) # mandamos el parametro a la función\n",
    "print(resultado) # imprimimos el retorno de la función"
   ]
  },
  {
   "cell_type": "code",
   "execution_count": 22,
   "id": "cce0e1bf-29fc-4528-8cea-5dae0af4be6a",
   "metadata": {},
   "outputs": [
    {
     "name": "stdout",
     "output_type": "stream",
     "text": [
      "Initialized empty Git repository in C:/Users/risca/Desktop/Maestria Ciencia de Datos/Ciencia de datos en Python/Ciencia_de_Datos_Python/U/Laboratorio2/.git/\n"
     ]
    }
   ],
   "source": [
    "!git init"
   ]
  },
  {
   "cell_type": "code",
   "execution_count": 52,
   "id": "285ff12d-7edd-48af-8698-194d626233b1",
   "metadata": {},
   "outputs": [
    {
     "name": "stderr",
     "output_type": "stream",
     "text": [
      "warning: LF will be replaced by CRLF in 12002224_Laboratorio2_Sintaxis_y_Estructura_de_Datos.ipynb.\n",
      "The file will have its original line endings in your working directory\n"
     ]
    }
   ],
   "source": [
    "!git add 12002224_Laboratorio2_Sintaxis_y_Estructura_de_Datos.ipynb"
   ]
  },
  {
   "cell_type": "code",
   "execution_count": 53,
   "id": "e090c3a3-aad4-4315-abae-b4e087cfa598",
   "metadata": {},
   "outputs": [
    {
     "name": "stdout",
     "output_type": "stream",
     "text": [
      "[master 914625b] Primer programa del laboratorio 2\n",
      " 1 file changed, 36 insertions(+), 17 deletions(-)\n"
     ]
    }
   ],
   "source": [
    "!git commit -m \"Primer programa del laboratorio 2\""
   ]
  },
  {
   "cell_type": "code",
   "execution_count": 54,
   "id": "7ba3c73a-988c-402d-86aa-0429f5a6da13",
   "metadata": {},
   "outputs": [],
   "source": [
    "!git branch -M main"
   ]
  },
  {
   "cell_type": "code",
   "execution_count": null,
   "id": "8359aec3-6211-4edd-88b9-667a99c1452c",
   "metadata": {},
   "outputs": [],
   "source": [
    "!git push -u origin main"
   ]
  },
  {
   "cell_type": "markdown",
   "id": "547ff145-0d5c-44e9-9903-9d3a502003c9",
   "metadata": {},
   "source": [
    "## 2. Haga una función en Python que dado un número entre 1 y 20. Y un carácter cualquiera despliegue cuatro patrones triangualares."
   ]
  },
  {
   "cell_type": "code",
   "execution_count": 121,
   "id": "21bf8889-723b-4981-950a-82966d40c191",
   "metadata": {},
   "outputs": [
    {
     "name": "stdin",
     "output_type": "stream",
     "text": [
      "Ingrese un número entre 1 y 20 para desplegar cuatro patrones triangulares:  5\n"
     ]
    },
    {
     "name": "stdout",
     "output_type": "stream",
     "text": [
      "*\n",
      "**\n",
      "***\n",
      "****\n",
      "*****\n",
      "\n",
      "*****\n",
      "****\n",
      "***\n",
      "**\n",
      "*\n",
      "\n",
      "    *\n",
      "   **\n",
      "  ***\n",
      " ****\n",
      "*****\n",
      "\n",
      "*****\n",
      " ****\n",
      "  ***\n",
      "   **\n",
      "    *\n"
     ]
    }
   ],
   "source": [
    "def patrones_triangulares(num):\n",
    "    for i in range(num):\n",
    "        print('*' * (i+1))\n",
    "        \n",
    "    print()\n",
    "    \n",
    "    for i in range(num):\n",
    "        j = num - (i)\n",
    "        print('*' * j)\n",
    "    \n",
    "    print()\n",
    "    \n",
    "    for i in range(num):\n",
    "        vacios = num - (i + 1)\n",
    "        print(' '* vacios + '*' * (i + 1))\n",
    "\n",
    "    print()\n",
    "    \n",
    "    for i in range(num):\n",
    "        espacios = i\n",
    "        j = num - i\n",
    "        print(' '* espacios + '*' * j)\n",
    "        \n",
    "    \n",
    "numero = int(input('Ingrese un número entre 1 y 20 para desplegar cuatro patrones triangulares: '))\n",
    "patrones_triangulares(numero)\n"
   ]
  },
  {
   "cell_type": "code",
   "execution_count": 122,
   "id": "f79d76cb-8866-4465-9bb1-8a19f553ca25",
   "metadata": {},
   "outputs": [
    {
     "name": "stdout",
     "output_type": "stream",
     "text": [
      "On branch main\n",
      "Your branch is up to date with 'origin/main'.\n",
      "\n",
      "Changes not staged for commit:\n",
      "  (use \"git add <file>...\" to update what will be committed)\n",
      "  (use \"git restore <file>...\" to discard changes in working directory)\n",
      "\tmodified:   12002224_Laboratorio2_Sintaxis_y_Estructura_de_Datos.ipynb\n",
      "\n",
      "Untracked files:\n",
      "  (use \"git add <file>...\" to include in what will be committed)\n",
      "\t.ipynb_checkpoints/\n",
      "\n",
      "no changes added to commit (use \"git add\" and/or \"git commit -a\")\n"
     ]
    }
   ],
   "source": [
    "!git status"
   ]
  },
  {
   "cell_type": "code",
   "execution_count": 123,
   "id": "66c3db0d-9dd7-4d5a-9db6-4b9cf3042132",
   "metadata": {},
   "outputs": [
    {
     "name": "stderr",
     "output_type": "stream",
     "text": [
      "warning: LF will be replaced by CRLF in 12002224_Laboratorio2_Sintaxis_y_Estructura_de_Datos.ipynb.\n",
      "The file will have its original line endings in your working directory\n"
     ]
    }
   ],
   "source": [
    "!git add 12002224_Laboratorio2_Sintaxis_y_Estructura_de_Datos.ipynb"
   ]
  },
  {
   "cell_type": "code",
   "execution_count": 124,
   "id": "fea5648b-e4e7-45cd-8ea2-5561d13f1afa",
   "metadata": {},
   "outputs": [
    {
     "name": "stdout",
     "output_type": "stream",
     "text": [
      "On branch main\n",
      "Your branch is up to date with 'origin/main'.\n",
      "\n",
      "Changes to be committed:\n",
      "  (use \"git restore --staged <file>...\" to unstage)\n",
      "\tmodified:   12002224_Laboratorio2_Sintaxis_y_Estructura_de_Datos.ipynb\n",
      "\n",
      "Changes not staged for commit:\n",
      "  (use \"git add <file>...\" to update what will be committed)\n",
      "  (use \"git restore <file>...\" to discard changes in working directory)\n",
      "\tmodified:   12002224_Laboratorio2_Sintaxis_y_Estructura_de_Datos.ipynb\n",
      "\n",
      "Untracked files:\n",
      "  (use \"git add <file>...\" to include in what will be committed)\n",
      "\t.ipynb_checkpoints/\n",
      "\n"
     ]
    }
   ],
   "source": [
    "!git status"
   ]
  },
  {
   "cell_type": "code",
   "execution_count": 125,
   "id": "ac755c32-a915-45db-b10a-9ec297d2ca88",
   "metadata": {},
   "outputs": [
    {
     "name": "stdout",
     "output_type": "stream",
     "text": [
      "[main a96c8cf] Segundo Ejercicio del laboratorio 2\n",
      " 1 file changed, 258 insertions(+), 812 deletions(-)\n",
      " rewrite 12002224_Laboratorio2_Sintaxis_y_Estructura_de_Datos.ipynb (79%)\n"
     ]
    }
   ],
   "source": [
    "!git commit -m \"Segundo Ejercicio del laboratorio 2\""
   ]
  },
  {
   "cell_type": "code",
   "execution_count": 126,
   "id": "47d98eec-e3db-4664-833e-f98445a216cf",
   "metadata": {},
   "outputs": [
    {
     "name": "stdout",
     "output_type": "stream",
     "text": [
      "Branch 'main' set up to track remote branch 'main' from 'origin'.\n"
     ]
    },
    {
     "name": "stderr",
     "output_type": "stream",
     "text": [
      "To https://github.com/CarlosRisch/Laboratorio2_Sintaxis_y_Estructura_de_Datos.git\n",
      "   cfc8c87..a96c8cf  main -> main\n"
     ]
    }
   ],
   "source": [
    "!git push -u origin main"
   ]
  },
  {
   "cell_type": "markdown",
   "id": "ee58b3f2-6c5a-4116-83e7-4743ea0a9317",
   "metadata": {},
   "source": [
    "## 3. Haga un programa en Python que la fecha de nacimiento de una persona (puede ingresar por separado cada valor, es decir pedir primero día, luego mes y luego año), despliegue la edad de la persona en años, meses y días. Su resultado puede ser aproximado."
   ]
  },
  {
   "cell_type": "code",
   "execution_count": 132,
   "id": "244beb4b-6cbd-40bf-b0cd-fb3bd5fb5ba5",
   "metadata": {},
   "outputs": [
    {
     "name": "stdin",
     "output_type": "stream",
     "text": [
      "Ingrese el día de nacimiento:  27\n",
      "Ingrese el mes de nacimiento:  05\n",
      "Ingrese el año de nacimiento:  1992\n"
     ]
    },
    {
     "name": "stdout",
     "output_type": "stream",
     "text": [
      "La edad es: 31 años, 9 meses y 10 días\n"
     ]
    }
   ],
   "source": [
    "from datetime import datetime\n",
    "\n",
    "def calcular_edad(dia, mes, anio):\n",
    "    try:\n",
    "        fecha_nac = datetime(anio, mes, dia)\n",
    "        fecha_act = datetime.now()\n",
    "        # Operaciones para el calculo de los años, meses y dias\n",
    "        diferencia_fechas = fecha_act - fecha_nac\n",
    "        edad_anio = diferencia_fechas.days // 365\n",
    "        resto_dias = diferencia_fechas.days % 365\n",
    "        edad_mes = resto_dias // 30\n",
    "        edad_dias = resto_dias % 30\n",
    "    \n",
    "        return edad_anio, edad_mes, edad_dias\n",
    "    except Exception as error:\n",
    "        print('Error -> ', error)\n",
    "        \n",
    "# solicitamos el dia, mes y año al usuario\n",
    "dia = int(input('Ingrese el día de nacimiento: '))\n",
    "mes = int(input('Ingrese el mes de nacimiento: '))\n",
    "anio = int(input('Ingrese el año de nacimiento: '))\n",
    "\n",
    "edad_anio1, edad_meses1, edad_dias1 = calcular_edad(dia, mes, anio) # Mandamos las variables como parámetros de la función y el resultado lo guardamos en otras variables\n",
    "print(f'La edad es: {edad_anio1} años, {edad_meses1} meses y {edad_dias1} días')"
   ]
  },
  {
   "cell_type": "code",
   "execution_count": 133,
   "id": "c8557532-ef01-4000-973b-33f93a5b9531",
   "metadata": {},
   "outputs": [
    {
     "name": "stdout",
     "output_type": "stream",
     "text": [
      "On branch main\n",
      "Your branch is up to date with 'origin/main'.\n",
      "\n",
      "Changes not staged for commit:\n",
      "  (use \"git add <file>...\" to update what will be committed)\n",
      "  (use \"git restore <file>...\" to discard changes in working directory)\n",
      "\tmodified:   12002224_Laboratorio2_Sintaxis_y_Estructura_de_Datos.ipynb\n",
      "\n",
      "Untracked files:\n",
      "  (use \"git add <file>...\" to include in what will be committed)\n",
      "\t.ipynb_checkpoints/\n",
      "\n",
      "no changes added to commit (use \"git add\" and/or \"git commit -a\")\n"
     ]
    }
   ],
   "source": [
    "!git status"
   ]
  },
  {
   "cell_type": "code",
   "execution_count": 134,
   "id": "094c0c88-c071-484a-968c-d265cc0e9cb4",
   "metadata": {},
   "outputs": [
    {
     "name": "stderr",
     "output_type": "stream",
     "text": [
      "warning: LF will be replaced by CRLF in 12002224_Laboratorio2_Sintaxis_y_Estructura_de_Datos.ipynb.\n",
      "The file will have its original line endings in your working directory\n"
     ]
    }
   ],
   "source": [
    "!git add 12002224_Laboratorio2_Sintaxis_y_Estructura_de_Datos.ipynb"
   ]
  },
  {
   "cell_type": "code",
   "execution_count": 135,
   "id": "0b62a65d-c77b-4a80-947f-ff6465ac11b3",
   "metadata": {},
   "outputs": [
    {
     "name": "stdout",
     "output_type": "stream",
     "text": [
      "On branch main\n",
      "Your branch is up to date with 'origin/main'.\n",
      "\n",
      "Changes to be committed:\n",
      "  (use \"git restore --staged <file>...\" to unstage)\n",
      "\tmodified:   12002224_Laboratorio2_Sintaxis_y_Estructura_de_Datos.ipynb\n",
      "\n",
      "Untracked files:\n",
      "  (use \"git add <file>...\" to include in what will be committed)\n",
      "\t.ipynb_checkpoints/\n",
      "\n"
     ]
    }
   ],
   "source": [
    "!git status"
   ]
  },
  {
   "cell_type": "code",
   "execution_count": 136,
   "id": "d814b403-e591-4d02-80b4-d4507511983e",
   "metadata": {},
   "outputs": [
    {
     "name": "stdout",
     "output_type": "stream",
     "text": [
      "[main 0b8f2a9] Tercer Ejercicio del laboratorio 2\n",
      " 1 file changed, 183 insertions(+), 5 deletions(-)\n"
     ]
    }
   ],
   "source": [
    "!git commit -m \"Tercer Ejercicio del laboratorio 2\""
   ]
  },
  {
   "cell_type": "code",
   "execution_count": 137,
   "id": "a8af4682-35a5-4009-bc53-e3b95488f78c",
   "metadata": {},
   "outputs": [
    {
     "name": "stdout",
     "output_type": "stream",
     "text": [
      "Branch 'main' set up to track remote branch 'main' from 'origin'.\n"
     ]
    },
    {
     "name": "stderr",
     "output_type": "stream",
     "text": [
      "To https://github.com/CarlosRisch/Laboratorio2_Sintaxis_y_Estructura_de_Datos.git\n",
      "   a96c8cf..0b8f2a9  main -> main\n"
     ]
    }
   ],
   "source": [
    "!git push -u origin main"
   ]
  },
  {
   "cell_type": "markdown",
   "id": "14fdd089-c857-45a9-a37b-95b4c401e72a",
   "metadata": {},
   "source": [
    "## 4. Escriba una función en Python que dada una tupla de elementos (números o letras) esta se convierta a un string."
   ]
  },
  {
   "cell_type": "code",
   "execution_count": 149,
   "id": "efe61b25-c1cf-435f-ab71-ae3a4cb89f55",
   "metadata": {},
   "outputs": [
    {
     "name": "stdout",
     "output_type": "stream",
     "text": [
      "El resultado de la conversion es: 102040570\n"
     ]
    }
   ],
   "source": [
    "def convertir_tupla_a_str(una_tupla):\n",
    "    #conversion = ''.join(map(str, una_tupla)\n",
    "    cadena = ''\n",
    "    for dato in una_tupla:\n",
    "        cadena = cadena + str(dato)\n",
    "    return cadena\n",
    "\n",
    "datos_tupla = (10, 20, 40, 5, 70)\n",
    "datos_convertidos = convertir_tupla_a_str(datos_tupla)\n",
    "\n",
    "print(f'El resultado de la conversion es: {datos_convertidos}')"
   ]
  },
  {
   "cell_type": "code",
   "execution_count": 150,
   "id": "fecb6162-d637-42fa-a72c-9769a8a48dd8",
   "metadata": {},
   "outputs": [
    {
     "name": "stdout",
     "output_type": "stream",
     "text": [
      "On branch main\n",
      "Your branch is up to date with 'origin/main'.\n",
      "\n",
      "Changes not staged for commit:\n",
      "  (use \"git add <file>...\" to update what will be committed)\n",
      "  (use \"git restore <file>...\" to discard changes in working directory)\n",
      "\tmodified:   12002224_Laboratorio2_Sintaxis_y_Estructura_de_Datos.ipynb\n",
      "\n",
      "Untracked files:\n",
      "  (use \"git add <file>...\" to include in what will be committed)\n",
      "\t.ipynb_checkpoints/\n",
      "\n",
      "no changes added to commit (use \"git add\" and/or \"git commit -a\")\n"
     ]
    }
   ],
   "source": [
    "!git status"
   ]
  },
  {
   "cell_type": "code",
   "execution_count": 151,
   "id": "ec771f0c-cd22-4ae3-85e3-1c5272a08ef8",
   "metadata": {},
   "outputs": [
    {
     "name": "stderr",
     "output_type": "stream",
     "text": [
      "warning: LF will be replaced by CRLF in 12002224_Laboratorio2_Sintaxis_y_Estructura_de_Datos.ipynb.\n",
      "The file will have its original line endings in your working directory\n"
     ]
    }
   ],
   "source": [
    "!git add 12002224_Laboratorio2_Sintaxis_y_Estructura_de_Datos.ipynb"
   ]
  },
  {
   "cell_type": "code",
   "execution_count": 152,
   "id": "1e5bc40b-8834-4963-9fa8-fc5b3de829aa",
   "metadata": {},
   "outputs": [
    {
     "name": "stdout",
     "output_type": "stream",
     "text": [
      "On branch main\n",
      "Your branch is up to date with 'origin/main'.\n",
      "\n",
      "Changes to be committed:\n",
      "  (use \"git restore --staged <file>...\" to unstage)\n",
      "\tmodified:   12002224_Laboratorio2_Sintaxis_y_Estructura_de_Datos.ipynb\n",
      "\n",
      "Untracked files:\n",
      "  (use \"git add <file>...\" to include in what will be committed)\n",
      "\t.ipynb_checkpoints/\n",
      "\n"
     ]
    }
   ],
   "source": [
    "!git status"
   ]
  },
  {
   "cell_type": "code",
   "execution_count": 154,
   "id": "103866fd-5bc9-4f16-9495-ae4a7b835077",
   "metadata": {},
   "outputs": [
    {
     "name": "stdout",
     "output_type": "stream",
     "text": [
      "[main 6e2be1f] Cuarto Ejercicio del laboratorio 2\n",
      " 1 file changed, 159 insertions(+), 1 deletion(-)\n"
     ]
    }
   ],
   "source": [
    "!git commit -m \"Cuarto Ejercicio del laboratorio 2\""
   ]
  },
  {
   "cell_type": "code",
   "execution_count": 155,
   "id": "665caa99-cde4-4f61-9ad3-17730589e231",
   "metadata": {},
   "outputs": [
    {
     "name": "stdout",
     "output_type": "stream",
     "text": [
      "Branch 'main' set up to track remote branch 'main' from 'origin'.\n"
     ]
    },
    {
     "name": "stderr",
     "output_type": "stream",
     "text": [
      "To https://github.com/CarlosRisch/Laboratorio2_Sintaxis_y_Estructura_de_Datos.git\n",
      "   0b8f2a9..6e2be1f  main -> main\n"
     ]
    }
   ],
   "source": [
    "!git push -u origin main"
   ]
  },
  {
   "cell_type": "markdown",
   "id": "da7a52ab-fc42-4307-a72c-cf8d81ccecee",
   "metadata": {},
   "source": [
    "## 5. Cree un programa en Python que dada una lista de tuplas, elimine las tuplas que están vacías."
   ]
  },
  {
   "cell_type": "code",
   "execution_count": 158,
   "id": "89a6f191-a77d-46d6-8e61-d5434defcac7",
   "metadata": {},
   "outputs": [
    {
     "name": "stdout",
     "output_type": "stream",
     "text": [
      "Lista de tuplas sin vacios: \n",
      " ['X', ('a', 'b'), ('a', 'b', 'c'), 'd']\n"
     ]
    }
   ],
   "source": [
    "def elimina_tuplas_vacias(mi_tupla):\n",
    "    nueva_tupla = [tupla for tupla in mi_tupla if any(tupla)]\n",
    "    return nueva_tupla\n",
    "\n",
    "mi_tupla_con_vacios = [(), (), ('X'), ('a', 'b'), ('a', 'b', 'c'), ('d')]\n",
    "mi_tupla_sin_vacios = elimina_tuplas_vacias(mi_tupla_con_vacios)\n",
    "\n",
    "print('Lista de tuplas sin vacios: \\n', mi_tupla_sin_vacios)"
   ]
  },
  {
   "cell_type": "code",
   "execution_count": 159,
   "id": "6d908f2f-1270-4b38-8a9d-d99b5d6e265f",
   "metadata": {},
   "outputs": [
    {
     "name": "stderr",
     "output_type": "stream",
     "text": [
      "warning: LF will be replaced by CRLF in 12002224_Laboratorio2_Sintaxis_y_Estructura_de_Datos.ipynb.\n",
      "The file will have its original line endings in your working directory\n"
     ]
    }
   ],
   "source": [
    "!git add 12002224_Laboratorio2_Sintaxis_y_Estructura_de_Datos.ipynb"
   ]
  },
  {
   "cell_type": "code",
   "execution_count": 160,
   "id": "d38e71bd-17e8-47c9-b134-b1c3f6cac60a",
   "metadata": {},
   "outputs": [
    {
     "name": "stdout",
     "output_type": "stream",
     "text": [
      "[main 3c1f60b] Quinto ejercicio del Laboratorio 2\n",
      " 1 file changed, 160 insertions(+), 2 deletions(-)\n"
     ]
    }
   ],
   "source": [
    "!git commit -m \"Quinto ejercicio del Laboratorio 2\""
   ]
  },
  {
   "cell_type": "code",
   "execution_count": 161,
   "id": "2e74b9c4-c824-4534-ac38-33b2d3033a4f",
   "metadata": {},
   "outputs": [
    {
     "name": "stdout",
     "output_type": "stream",
     "text": [
      "Branch 'main' set up to track remote branch 'main' from 'origin'.\n"
     ]
    },
    {
     "name": "stderr",
     "output_type": "stream",
     "text": [
      "To https://github.com/CarlosRisch/Laboratorio2_Sintaxis_y_Estructura_de_Datos.git\n",
      "   6e2be1f..3c1f60b  main -> main\n"
     ]
    }
   ],
   "source": [
    "!git push -u origin main"
   ]
  },
  {
   "cell_type": "markdown",
   "id": "e4e9ef6f-8ca0-41e9-b327-1fff3fba299a",
   "metadata": {},
   "source": [
    "## 6. Cree una función en Python que dada una tupla de tuplas con numeros, produzca una tupla con el promedio de cada tupla individual, debe usar comprehensions para desarrollar este ejercicio"
   ]
  },
  {
   "cell_type": "code",
   "execution_count": 164,
   "id": "cfa32c9b-b200-4483-8cae-7cc267734296",
   "metadata": {},
   "outputs": [
    {
     "name": "stdout",
     "output_type": "stream",
     "text": [
      "(10.5, 44.0, 58.0)\n"
     ]
    }
   ],
   "source": [
    "def calcular_promedios(tupla_con_tuplas):\n",
    "    try:\n",
    "        # usamos comprehensions para realizar el calculo del promedio de las tuplas\n",
    "        obtiene_promedio = tuple(sum(tupla) / len(tupla) for tupla in tupla_con_tuplas)\n",
    "        return obtiene_promedio\n",
    "    except ZeroDivisionError:\n",
    "        # En el caso que una tupla esté vacía\n",
    "        print('Error: una de las tuplas esta vacía')\n",
    "        return None\n",
    "    except TypeError:\n",
    "        # En el caso que no se proporcionen numeros en las tuplas\n",
    "        print('Error: Las tuplas tienen que contener numeros.')\n",
    "        return None\n",
    "\n",
    "tuplas = ((10, 10, 10, 12), (30, 45, 56, 45), (81, 80, 39, 32))\n",
    "tupla_con_promedios = calcular_promedios(tuplas) # Mandamos la tupla de tuplas como parametro\n",
    "\n",
    "if tupla_con_promedios is not None: # Sí el return no es None, imprime el promedio de las tuplas\n",
    "    print(tupla_con_promedios)"
   ]
  },
  {
   "cell_type": "code",
   "execution_count": 165,
   "id": "0fe1d0e3-535f-460d-af07-4b92680247cc",
   "metadata": {},
   "outputs": [
    {
     "name": "stderr",
     "output_type": "stream",
     "text": [
      "warning: LF will be replaced by CRLF in 12002224_Laboratorio2_Sintaxis_y_Estructura_de_Datos.ipynb.\n",
      "The file will have its original line endings in your working directory\n"
     ]
    }
   ],
   "source": [
    "!git add 12002224_Laboratorio2_Sintaxis_y_Estructura_de_Datos.ipynb"
   ]
  },
  {
   "cell_type": "code",
   "execution_count": 167,
   "id": "07fdb59e-fcc2-4a65-be19-985d206af3b0",
   "metadata": {},
   "outputs": [
    {
     "name": "stdout",
     "output_type": "stream",
     "text": [
      "[main 2a2cdd7] Sexto ejercicio del Laboratorio 2\n",
      " 1 file changed, 109 insertions(+), 3 deletions(-)\n"
     ]
    }
   ],
   "source": [
    "!git commit -m \"Sexto ejercicio del Laboratorio 2\""
   ]
  },
  {
   "cell_type": "code",
   "execution_count": 168,
   "id": "4b2c4a48-2a58-46a5-97c8-2420af14ccfd",
   "metadata": {},
   "outputs": [
    {
     "name": "stdout",
     "output_type": "stream",
     "text": [
      "Branch 'main' set up to track remote branch 'main' from 'origin'.\n"
     ]
    },
    {
     "name": "stderr",
     "output_type": "stream",
     "text": [
      "To https://github.com/CarlosRisch/Laboratorio2_Sintaxis_y_Estructura_de_Datos.git\n",
      "   3c1f60b..2a2cdd7  main -> main\n"
     ]
    }
   ],
   "source": [
    "!git push -u origin main"
   ]
  },
  {
   "cell_type": "markdown",
   "id": "e8f9a748-25ee-4a3a-b114-6c5f7c025692",
   "metadata": {},
   "source": [
    "## 7. Escribir un programa que gestione las facturas pendientes de cobro de una empresa. Las facturas se almacenaran en un diccionario donde la llave de cada factura sera el numero de factura (debe utilizar un numero de 4 digitos) y el valor del coste de la factura. El programa debe preguntar al usuario si quiere añadir una nueva factura, pagar una existente o terminar. Si desea añadir una nueva factura se preguntara por el numero de factura y su coste y se añadira al diccionario, para confirmar que la factura se ingreso correctamente el programa debe desplegar el diccionario completo. Si se desea pagar una factura se preguntara por el numero de factura y se eliminara del diccionario. Despues de cada operacion el programa debe mostrar en pantalla la cantidad cobrada hasta el momento y la cantidad pendiente de cobro. Puede utilizar otras estructuras de datos como apoyo si lo considera necesario. Escribir un programa que gestione las facturas pendientes de cobro de una empresa. Las facturas se almacenaran en un diccionario donde la llave de cada factura sera el numero de factura (debe utilizar un numero de 4 digitos) y el valor del coste de la factura. El programa debe preguntar al usuario si quiere añadir una nueva factura, pagar una existente o terminar. Si desea añadir una nueva factura se preguntara por el numero de factura y su coste y se añadira al diccionario, para confirmar que la factura se ingreso correctamente el programa debe desplegar el diccionario completo. Si se desea pagar una factura se preguntara por el numero de factura y se eliminara del diccionario. Despues de cada operacion el programa debe mostrar en pantalla la cantidad cobrada hasta el momento y la cantidad pendiente de cobro. Puede utilizar otras estructuras de datos como apoyo si lo considera necesario.\n"
   ]
  },
  {
   "cell_type": "code",
   "execution_count": 186,
   "id": "230827bd-ab61-4e24-a46e-6e29d7b26ca2",
   "metadata": {},
   "outputs": [
    {
     "name": "stdout",
     "output_type": "stream",
     "text": [
      "\n",
      "***** Gestión de Facturas *****\n",
      "1. Añadir nueva factura\n",
      "2. Pagar factura existente\n",
      "3. Terminar\n"
     ]
    },
    {
     "name": "stdin",
     "output_type": "stream",
     "text": [
      "Seleccione una opción:  1\n",
      "Ingrese el número de factura (4 dígitos):  6789\n",
      "Ingrese el costo de la factura:  200\n"
     ]
    },
    {
     "name": "stdout",
     "output_type": "stream",
     "text": [
      "Factura añadida correctamente.\n",
      "Facturas actuales: {6789: 200.0}\n",
      "\n",
      "***** Gestión de Facturas *****\n",
      "1. Añadir nueva factura\n",
      "2. Pagar factura existente\n",
      "3. Terminar\n"
     ]
    },
    {
     "name": "stdin",
     "output_type": "stream",
     "text": [
      "Seleccione una opción:  3\n"
     ]
    },
    {
     "name": "stdout",
     "output_type": "stream",
     "text": [
      "\n",
      "Resumen de facturas:\n",
      "Cantidad cobrada hasta el momento: Q.0.00\n",
      "Cantidad pendiente de cobro: Q.200.00\n"
     ]
    }
   ],
   "source": [
    "def gestion_facturas():\n",
    "    # Diccionario para almacenar las facturas (clave: número de factura, valor: costo de la factura)\n",
    "    facturas = {}\n",
    "\n",
    "    # Variables para llevar el registro de la cantidad cobrada y pendiente\n",
    "    total_cobrado = 0\n",
    "    total_pendiente = 0\n",
    "\n",
    "    while True:\n",
    "        print(\"\\n***** Gestión de Facturas *****\")\n",
    "        print(\"1. Añadir nueva factura\")\n",
    "        print(\"2. Pagar factura existente\")\n",
    "        print(\"3. Terminar\")\n",
    "        opcion = input(\"Seleccione una opción: \")\n",
    "\n",
    "        if opcion == \"1\":\n",
    "            try:\n",
    "                numero_factura = int(input(\"Ingrese el número de factura (4 dígitos): \"))\n",
    "                if (numero_factura < 1000) | (numero_factura > 9999):\n",
    "                    print('Ingrese 4 dígitos para la factura')\n",
    "                    print('Saliendo del programa...')\n",
    "                    break\n",
    "                else:\n",
    "                    costo_factura = float(input(\"Ingrese el costo de la factura: \"))\n",
    "                    facturas[numero_factura] = costo_factura\n",
    "                    print(\"Factura añadida correctamente.\")\n",
    "                    print(\"Facturas actuales:\", facturas)\n",
    "                    total_pendiente += costo_factura\n",
    "            except ValueError:\n",
    "                print(\"Error: Ingrese un número válido para el número de factura o costo.\")\n",
    "        elif opcion == \"2\":\n",
    "            try:\n",
    "                numero_factura = int(input(\"Ingrese el número de factura a pagar: \"))\n",
    "                costo_pagado = facturas.pop(numero_factura, 0)\n",
    "                if costo_pagado > 0:\n",
    "                    print(f\"Factura {numero_factura} pagada correctamente.\")\n",
    "                    print(\"Facturas actuales:\", facturas)\n",
    "                    total_cobrado += costo_pagado\n",
    "                    total_pendiente -= costo_pagado\n",
    "                else:\n",
    "                    print(f\"La factura {numero_factura} no existe o ya ha sido pagada.\")\n",
    "            except ValueError:\n",
    "                print(\"Error: Ingrese un número válido para el número de factura.\")\n",
    "        elif opcion == \"3\":\n",
    "            print(\"\\nResumen de facturas:\")\n",
    "            print(f\"Cantidad cobrada hasta el momento: Q.{total_cobrado:.2f}\")\n",
    "            print(f\"Cantidad pendiente de cobro: Q.{total_pendiente:.2f}\")\n",
    "            break\n",
    "        else:\n",
    "            print(\"Ingrese una opción válida... \")\n",
    "\n",
    "if __name__ == \"__main__\":\n",
    "    gestion_facturas()\n"
   ]
  },
  {
   "cell_type": "code",
   "execution_count": 187,
   "id": "6cfdf50f-be48-4947-a507-1c06c748c399",
   "metadata": {},
   "outputs": [
    {
     "name": "stderr",
     "output_type": "stream",
     "text": [
      "warning: LF will be replaced by CRLF in 12002224_Laboratorio2_Sintaxis_y_Estructura_de_Datos.ipynb.\n",
      "The file will have its original line endings in your working directory\n"
     ]
    }
   ],
   "source": [
    "!git add 12002224_Laboratorio2_Sintaxis_y_Estructura_de_Datos.ipynb"
   ]
  },
  {
   "cell_type": "code",
   "execution_count": null,
   "id": "ff24766b-b8b4-40d9-ab36-fe444cc75419",
   "metadata": {},
   "outputs": [],
   "source": []
  },
  {
   "cell_type": "code",
   "execution_count": 188,
   "id": "f168be4b-8131-4c6c-b221-bbcd2a655be0",
   "metadata": {},
   "outputs": [
    {
     "name": "stdout",
     "output_type": "stream",
     "text": [
      "[main ca96573] Septimo ejercicio del Laboratorio 2\n",
      " 1 file changed, 195 insertions(+), 2 deletions(-)\n"
     ]
    }
   ],
   "source": [
    "!git commit -m \"Septimo ejercicio del Laboratorio 2\""
   ]
  },
  {
   "cell_type": "code",
   "execution_count": 189,
   "id": "1351992b-fd80-41b9-9dba-d1c30f9e9ace",
   "metadata": {},
   "outputs": [
    {
     "name": "stdout",
     "output_type": "stream",
     "text": [
      "Branch 'main' set up to track remote branch 'main' from 'origin'."
     ]
    },
    {
     "name": "stderr",
     "output_type": "stream",
     "text": [
      "To https://github.com/CarlosRisch/Laboratorio2_Sintaxis_y_Estructura_de_Datos.git\n",
      "   2a2cdd7..ca96573  main -> main\n"
     ]
    },
    {
     "name": "stdout",
     "output_type": "stream",
     "text": [
      "\n"
     ]
    }
   ],
   "source": [
    "!git push -u origin main"
   ]
  },
  {
   "cell_type": "markdown",
   "id": "52e44e90-9143-4ad1-80fc-1ab952744c7c",
   "metadata": {},
   "source": [
    "## 8. Haga una funcion en Python, que cree un set con todas las cartas de una baraja de Pocker utilizando el siguiente formato: Tipo-Numero. Utilice las letras T para treboles, C para corazones, P para picas y E para espadas. Para los numeros utilice la numeracion del 1 al 13. Por ejemplo E13 - seria Rey de Espadas, P01 seria As de Picas, T05 seria cinco de Treboles. Posteriormente cree una funcion que dado el conjunto anterior cree dos sets nuevos de cartas, cada conjunto debe tener una cantidad variable de elementos, puede utilizar numeros aleatorios enteros para definir la longitud de los conjuntos. Adicionalmente, debera calcular la probabilidad de la interseccion de ambos conjuntos y demuestre si son eventos independientes con la regla del producto. Para concluir, calcule probabilidad de la union de ambos conjuntos y demuestre que se cumple la regla de la adicion."
   ]
  },
  {
   "cell_type": "code",
   "execution_count": 202,
   "id": "c2d789a4-b508-4a88-89a2-70737aa849a1",
   "metadata": {},
   "outputs": [
    {
     "name": "stdout",
     "output_type": "stream",
     "text": [
      "Baraja completa: {'E04', 'P04', 'P06', 'T06', 'C12', 'P12', 'T03', 'T05', 'P02', 'T01', 'C10', 'C11', 'T07', 'T02', 'E05', 'C09', 'E08', 'E03', 'T11', 'E06', 'C04', 'P01', 'T10', 'E13', 'C02', 'C01', 'E12', 'T09', 'C06', 'T12', 'P03', 'C08', 'E09', 'P08', 'T13', 'E10', 'T08', 'C07', 'C13', 'E11', 'E02', 'P13', 'E07', 'P05', 'P11', 'T04', 'P10', 'C05', 'P07', 'C03', 'E01', 'P09'}\n",
      "Conjunto 1 (10 elementos): {'C01', 'T07', 'C06', 'T02', 'P03', 'P11', 'T04', 'T05', 'P08', 'E01'}\n",
      "Conjunto 2 (9 elementos): {'E12', 'C07', 'E09', 'P08', 'E06', 'T13', 'C04', 'E10', 'C10'}\n",
      "Probabilidad de intersección: 0.0192\n",
      "Probabilidad independiente: 0.0333\n",
      "Probabilidad de unión: 0.3462\n"
     ]
    }
   ],
   "source": [
    "import random\n",
    "\n",
    "def crear_baraja():\n",
    "    tipos = ['T', 'C', 'P', 'E']  # Treboles, Corazones, Picas, Espadas\n",
    "    numeros = range(1, 14)  # Numeración del 1 al 13\n",
    "\n",
    "    baraja = {(tipo + str(numero).zfill(2)) for tipo in tipos for numero in numeros}\n",
    "    return baraja\n",
    "\n",
    "baraja_completa = crear_baraja()\n",
    "print(\"Baraja completa:\", baraja_completa)\n",
    "\n",
    "def crear_conjuntos_aleatorios(baraja, tamano_conjunto1, tamano_conjunto2):\n",
    "    conjunto1 = set(random.sample(baraja, tamano_conjunto1))\n",
    "    conjunto2 = set(random.sample(baraja, tamano_conjunto2))\n",
    "    return conjunto1, conjunto2\n",
    "\n",
    "tamano_conjunto1 = random.randint(5, 10)  # Tamaño aleatorio para el conjunto 1\n",
    "tamano_conjunto2 = random.randint(5, 10)  # Tamaño aleatorio para el conjunto 2\n",
    "\n",
    "conjunto1, conjunto2 = crear_conjuntos_aleatorios(list(baraja_completa), tamano_conjunto1, tamano_conjunto2)\n",
    "print(f\"Conjunto 1 ({tamano_conjunto1} elementos):\", conjunto1)\n",
    "print(f\"Conjunto 2 ({tamano_conjunto2} elementos):\", conjunto2)\n",
    "\n",
    "prob_interseccion = len(conjunto1 & conjunto2) / len(baraja_completa)\n",
    "print(f\"Probabilidad de intersección: {prob_interseccion:.4f}\")\n",
    "\n",
    "# Verificación de independencia (regla del producto)\n",
    "prob_independiente = len(conjunto1) / len(baraja_completa) * len(conjunto2) / len(baraja_completa)\n",
    "print(f\"Probabilidad independiente: {prob_independiente:.4f}\")\n",
    "\n",
    "prob_union = len(conjunto1 | conjunto2) / len(baraja_completa)\n",
    "print(f\"Probabilidad de unión: {prob_union:.4f}\")\n",
    "\n"
   ]
  },
  {
   "cell_type": "code",
   "execution_count": null,
   "id": "0db7d5c7-0ae9-4dd5-bceb-e0c6ac9364af",
   "metadata": {},
   "outputs": [],
   "source": []
  }
 ],
 "metadata": {
  "kernelspec": {
   "display_name": "Python 3 (ipykernel)",
   "language": "python",
   "name": "python3"
  },
  "language_info": {
   "codemirror_mode": {
    "name": "ipython",
    "version": 3
   },
   "file_extension": ".py",
   "mimetype": "text/x-python",
   "name": "python",
   "nbconvert_exporter": "python",
   "pygments_lexer": "ipython3",
   "version": "3.11.7"
  }
 },
 "nbformat": 4,
 "nbformat_minor": 5
}
